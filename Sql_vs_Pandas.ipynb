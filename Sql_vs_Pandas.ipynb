{
 "cells": [
  {
   "cell_type": "code",
   "execution_count": 13,
   "id": "8ec663de",
   "metadata": {},
   "outputs": [],
   "source": [
    "import pandas as pd"
   ]
  },
  {
   "cell_type": "code",
   "execution_count": 14,
   "id": "82ddeae9",
   "metadata": {},
   "outputs": [],
   "source": [
    "df=pd.read_excel('D:\\DATASETS\\Students.xlsx')"
   ]
  },
  {
   "cell_type": "markdown",
   "id": "a06b9a51",
   "metadata": {},
   "source": [
    "# SQL Sytnax \n",
    "\n",
    "##  Select * from Students\n"
   ]
  },
  {
   "cell_type": "code",
   "execution_count": 15,
   "id": "98dd4bb9",
   "metadata": {},
   "outputs": [
    {
     "data": {
      "text/html": [
       "<div>\n",
       "<style scoped>\n",
       "    .dataframe tbody tr th:only-of-type {\n",
       "        vertical-align: middle;\n",
       "    }\n",
       "\n",
       "    .dataframe tbody tr th {\n",
       "        vertical-align: top;\n",
       "    }\n",
       "\n",
       "    .dataframe thead th {\n",
       "        text-align: right;\n",
       "    }\n",
       "</style>\n",
       "<table border=\"1\" class=\"dataframe\">\n",
       "  <thead>\n",
       "    <tr style=\"text-align: right;\">\n",
       "      <th></th>\n",
       "      <th>first_name</th>\n",
       "      <th>last_name</th>\n",
       "      <th>country</th>\n",
       "      <th>age</th>\n",
       "      <th>topice</th>\n",
       "      <th>grads</th>\n",
       "    </tr>\n",
       "  </thead>\n",
       "  <tbody>\n",
       "    <tr>\n",
       "      <th>0</th>\n",
       "      <td>Mustapha</td>\n",
       "      <td>Othman</td>\n",
       "      <td>EGY</td>\n",
       "      <td>34</td>\n",
       "      <td>Data Science</td>\n",
       "      <td>17.50</td>\n",
       "    </tr>\n",
       "    <tr>\n",
       "      <th>1</th>\n",
       "      <td>Omaima</td>\n",
       "      <td>Abdullah</td>\n",
       "      <td>KSA</td>\n",
       "      <td>28</td>\n",
       "      <td>Data Analysis</td>\n",
       "      <td>20.00</td>\n",
       "    </tr>\n",
       "    <tr>\n",
       "      <th>2</th>\n",
       "      <td>Siddik</td>\n",
       "      <td>Burhan</td>\n",
       "      <td>ESP</td>\n",
       "      <td>45</td>\n",
       "      <td>Data Analysis</td>\n",
       "      <td>19.00</td>\n",
       "    </tr>\n",
       "    <tr>\n",
       "      <th>3</th>\n",
       "      <td>Ahmed</td>\n",
       "      <td>Radwan</td>\n",
       "      <td>PSE</td>\n",
       "      <td>32</td>\n",
       "      <td>Data Enginer</td>\n",
       "      <td>14.25</td>\n",
       "    </tr>\n",
       "    <tr>\n",
       "      <th>4</th>\n",
       "      <td>Mariem</td>\n",
       "      <td>Mazen</td>\n",
       "      <td>EGY</td>\n",
       "      <td>18</td>\n",
       "      <td>Data Science</td>\n",
       "      <td>20.00</td>\n",
       "    </tr>\n",
       "    <tr>\n",
       "      <th>5</th>\n",
       "      <td>Mustapha</td>\n",
       "      <td>Jalal</td>\n",
       "      <td>MAR</td>\n",
       "      <td>36</td>\n",
       "      <td>Data Analysis</td>\n",
       "      <td>12.50</td>\n",
       "    </tr>\n",
       "  </tbody>\n",
       "</table>\n",
       "</div>"
      ],
      "text/plain": [
       "  first_name last_name country  age         topice  grads\n",
       "0   Mustapha    Othman     EGY   34   Data Science  17.50\n",
       "1     Omaima  Abdullah     KSA   28  Data Analysis  20.00\n",
       "2     Siddik    Burhan     ESP   45  Data Analysis  19.00\n",
       "3      Ahmed    Radwan     PSE   32   Data Enginer  14.25\n",
       "4     Mariem     Mazen     EGY   18   Data Science  20.00\n",
       "5   Mustapha     Jalal     MAR   36  Data Analysis  12.50"
      ]
     },
     "execution_count": 15,
     "metadata": {},
     "output_type": "execute_result"
    }
   ],
   "source": [
    "df"
   ]
  },
  {
   "cell_type": "markdown",
   "id": "8e0ca726",
   "metadata": {},
   "source": [
    "# SQL Sytnax \n",
    "## Select first_name from Students\n"
   ]
  },
  {
   "cell_type": "code",
   "execution_count": 58,
   "id": "fdc735b7",
   "metadata": {},
   "outputs": [
    {
     "data": {
      "text/plain": [
       "0    Mustapha\n",
       "1      Omaima\n",
       "2      Siddik\n",
       "3       Ahmed\n",
       "4      Mariem\n",
       "5    Mustapha\n",
       "Name: first_name, dtype: object"
      ]
     },
     "execution_count": 58,
     "metadata": {},
     "output_type": "execute_result"
    }
   ],
   "source": [
    "df['first_name']"
   ]
  },
  {
   "cell_type": "markdown",
   "id": "ec96b0a8",
   "metadata": {},
   "source": [
    "# SQL Sytnax \n",
    "## Select * from Students where contry=\"EYG\""
   ]
  },
  {
   "cell_type": "code",
   "execution_count": 59,
   "id": "8c51339a",
   "metadata": {},
   "outputs": [
    {
     "data": {
      "text/plain": [
       "0     True\n",
       "1    False\n",
       "2    False\n",
       "3    False\n",
       "4     True\n",
       "5    False\n",
       "Name: country, dtype: bool"
      ]
     },
     "execution_count": 59,
     "metadata": {},
     "output_type": "execute_result"
    }
   ],
   "source": [
    "df[\"country\"]==\"EGY\""
   ]
  },
  {
   "cell_type": "code",
   "execution_count": 60,
   "id": "a7346165",
   "metadata": {},
   "outputs": [
    {
     "data": {
      "text/html": [
       "<div>\n",
       "<style scoped>\n",
       "    .dataframe tbody tr th:only-of-type {\n",
       "        vertical-align: middle;\n",
       "    }\n",
       "\n",
       "    .dataframe tbody tr th {\n",
       "        vertical-align: top;\n",
       "    }\n",
       "\n",
       "    .dataframe thead th {\n",
       "        text-align: right;\n",
       "    }\n",
       "</style>\n",
       "<table border=\"1\" class=\"dataframe\">\n",
       "  <thead>\n",
       "    <tr style=\"text-align: right;\">\n",
       "      <th></th>\n",
       "      <th>first_name</th>\n",
       "      <th>last_name</th>\n",
       "      <th>country</th>\n",
       "      <th>age</th>\n",
       "      <th>topice</th>\n",
       "      <th>grads</th>\n",
       "    </tr>\n",
       "  </thead>\n",
       "  <tbody>\n",
       "    <tr>\n",
       "      <th>0</th>\n",
       "      <td>Mustapha</td>\n",
       "      <td>Othman</td>\n",
       "      <td>EGY</td>\n",
       "      <td>34</td>\n",
       "      <td>Data Science</td>\n",
       "      <td>17.5</td>\n",
       "    </tr>\n",
       "    <tr>\n",
       "      <th>4</th>\n",
       "      <td>Mariem</td>\n",
       "      <td>Mazen</td>\n",
       "      <td>EGY</td>\n",
       "      <td>18</td>\n",
       "      <td>Data Science</td>\n",
       "      <td>20.0</td>\n",
       "    </tr>\n",
       "  </tbody>\n",
       "</table>\n",
       "</div>"
      ],
      "text/plain": [
       "  first_name last_name country  age        topice  grads\n",
       "0   Mustapha    Othman     EGY   34  Data Science   17.5\n",
       "4     Mariem     Mazen     EGY   18  Data Science   20.0"
      ]
     },
     "execution_count": 60,
     "metadata": {},
     "output_type": "execute_result"
    }
   ],
   "source": [
    "df[df[\"country\"]==\"EGY\"]"
   ]
  },
  {
   "cell_type": "markdown",
   "id": "041f4a9d",
   "metadata": {},
   "source": [
    "# SQL Sytnax \n",
    "## Select  *\t from Students where first_name\tLIKE ' M%'"
   ]
  },
  {
   "cell_type": "code",
   "execution_count": 61,
   "id": "276e4884",
   "metadata": {},
   "outputs": [
    {
     "data": {
      "text/html": [
       "<div>\n",
       "<style scoped>\n",
       "    .dataframe tbody tr th:only-of-type {\n",
       "        vertical-align: middle;\n",
       "    }\n",
       "\n",
       "    .dataframe tbody tr th {\n",
       "        vertical-align: top;\n",
       "    }\n",
       "\n",
       "    .dataframe thead th {\n",
       "        text-align: right;\n",
       "    }\n",
       "</style>\n",
       "<table border=\"1\" class=\"dataframe\">\n",
       "  <thead>\n",
       "    <tr style=\"text-align: right;\">\n",
       "      <th></th>\n",
       "      <th>first_name</th>\n",
       "      <th>last_name</th>\n",
       "      <th>country</th>\n",
       "      <th>age</th>\n",
       "      <th>topice</th>\n",
       "      <th>grads</th>\n",
       "    </tr>\n",
       "  </thead>\n",
       "  <tbody>\n",
       "    <tr>\n",
       "      <th>0</th>\n",
       "      <td>Mustapha</td>\n",
       "      <td>Othman</td>\n",
       "      <td>EGY</td>\n",
       "      <td>34</td>\n",
       "      <td>Data Science</td>\n",
       "      <td>17.5</td>\n",
       "    </tr>\n",
       "    <tr>\n",
       "      <th>4</th>\n",
       "      <td>Mariem</td>\n",
       "      <td>Mazen</td>\n",
       "      <td>EGY</td>\n",
       "      <td>18</td>\n",
       "      <td>Data Science</td>\n",
       "      <td>20.0</td>\n",
       "    </tr>\n",
       "    <tr>\n",
       "      <th>5</th>\n",
       "      <td>Mustapha</td>\n",
       "      <td>Jalal</td>\n",
       "      <td>MAR</td>\n",
       "      <td>36</td>\n",
       "      <td>Data Analysis</td>\n",
       "      <td>12.5</td>\n",
       "    </tr>\n",
       "  </tbody>\n",
       "</table>\n",
       "</div>"
      ],
      "text/plain": [
       "  first_name last_name country  age         topice  grads\n",
       "0   Mustapha    Othman     EGY   34   Data Science   17.5\n",
       "4     Mariem     Mazen     EGY   18   Data Science   20.0\n",
       "5   Mustapha     Jalal     MAR   36  Data Analysis   12.5"
      ]
     },
     "execution_count": 61,
     "metadata": {},
     "output_type": "execute_result"
    }
   ],
   "source": [
    "df[df['first_name'].str.startswith('M')]"
   ]
  },
  {
   "cell_type": "markdown",
   "id": "c63ec00d",
   "metadata": {},
   "source": [
    "# SQL Sytnax \n",
    "## Select * from Students where age Btwineen '17' and '30'"
   ]
  },
  {
   "cell_type": "code",
   "execution_count": 62,
   "id": "0b1a2bc1",
   "metadata": {},
   "outputs": [
    {
     "data": {
      "text/html": [
       "<div>\n",
       "<style scoped>\n",
       "    .dataframe tbody tr th:only-of-type {\n",
       "        vertical-align: middle;\n",
       "    }\n",
       "\n",
       "    .dataframe tbody tr th {\n",
       "        vertical-align: top;\n",
       "    }\n",
       "\n",
       "    .dataframe thead th {\n",
       "        text-align: right;\n",
       "    }\n",
       "</style>\n",
       "<table border=\"1\" class=\"dataframe\">\n",
       "  <thead>\n",
       "    <tr style=\"text-align: right;\">\n",
       "      <th></th>\n",
       "      <th>first_name</th>\n",
       "      <th>last_name</th>\n",
       "      <th>country</th>\n",
       "      <th>age</th>\n",
       "      <th>topice</th>\n",
       "      <th>grads</th>\n",
       "    </tr>\n",
       "  </thead>\n",
       "  <tbody>\n",
       "    <tr>\n",
       "      <th>1</th>\n",
       "      <td>Omaima</td>\n",
       "      <td>Abdullah</td>\n",
       "      <td>KSA</td>\n",
       "      <td>28</td>\n",
       "      <td>Data Analysis</td>\n",
       "      <td>20.0</td>\n",
       "    </tr>\n",
       "    <tr>\n",
       "      <th>4</th>\n",
       "      <td>Mariem</td>\n",
       "      <td>Mazen</td>\n",
       "      <td>EGY</td>\n",
       "      <td>18</td>\n",
       "      <td>Data Science</td>\n",
       "      <td>20.0</td>\n",
       "    </tr>\n",
       "  </tbody>\n",
       "</table>\n",
       "</div>"
      ],
      "text/plain": [
       "  first_name last_name country  age         topice  grads\n",
       "1     Omaima  Abdullah     KSA   28  Data Analysis   20.0\n",
       "4     Mariem     Mazen     EGY   18   Data Science   20.0"
      ]
     },
     "execution_count": 62,
     "metadata": {},
     "output_type": "execute_result"
    }
   ],
   "source": [
    "df[(df['age'] >=17) & (df['age']<=30)]"
   ]
  },
  {
   "cell_type": "markdown",
   "id": "224a52d2",
   "metadata": {},
   "source": [
    "# SQL Sytnax \n",
    "## Select * from Students where Topice in  'Data Science' ,' Data Analysis'"
   ]
  },
  {
   "cell_type": "code",
   "execution_count": 63,
   "id": "ea858028",
   "metadata": {},
   "outputs": [
    {
     "data": {
      "text/html": [
       "<div>\n",
       "<style scoped>\n",
       "    .dataframe tbody tr th:only-of-type {\n",
       "        vertical-align: middle;\n",
       "    }\n",
       "\n",
       "    .dataframe tbody tr th {\n",
       "        vertical-align: top;\n",
       "    }\n",
       "\n",
       "    .dataframe thead th {\n",
       "        text-align: right;\n",
       "    }\n",
       "</style>\n",
       "<table border=\"1\" class=\"dataframe\">\n",
       "  <thead>\n",
       "    <tr style=\"text-align: right;\">\n",
       "      <th></th>\n",
       "      <th>first_name</th>\n",
       "      <th>last_name</th>\n",
       "      <th>country</th>\n",
       "      <th>age</th>\n",
       "      <th>topice</th>\n",
       "      <th>grads</th>\n",
       "    </tr>\n",
       "  </thead>\n",
       "  <tbody>\n",
       "    <tr>\n",
       "      <th>0</th>\n",
       "      <td>Mustapha</td>\n",
       "      <td>Othman</td>\n",
       "      <td>EGY</td>\n",
       "      <td>34</td>\n",
       "      <td>Data Science</td>\n",
       "      <td>17.5</td>\n",
       "    </tr>\n",
       "    <tr>\n",
       "      <th>1</th>\n",
       "      <td>Omaima</td>\n",
       "      <td>Abdullah</td>\n",
       "      <td>KSA</td>\n",
       "      <td>28</td>\n",
       "      <td>Data Analysis</td>\n",
       "      <td>20.0</td>\n",
       "    </tr>\n",
       "    <tr>\n",
       "      <th>2</th>\n",
       "      <td>Siddik</td>\n",
       "      <td>Burhan</td>\n",
       "      <td>ESP</td>\n",
       "      <td>45</td>\n",
       "      <td>Data Analysis</td>\n",
       "      <td>19.0</td>\n",
       "    </tr>\n",
       "    <tr>\n",
       "      <th>4</th>\n",
       "      <td>Mariem</td>\n",
       "      <td>Mazen</td>\n",
       "      <td>EGY</td>\n",
       "      <td>18</td>\n",
       "      <td>Data Science</td>\n",
       "      <td>20.0</td>\n",
       "    </tr>\n",
       "    <tr>\n",
       "      <th>5</th>\n",
       "      <td>Mustapha</td>\n",
       "      <td>Jalal</td>\n",
       "      <td>MAR</td>\n",
       "      <td>36</td>\n",
       "      <td>Data Analysis</td>\n",
       "      <td>12.5</td>\n",
       "    </tr>\n",
       "  </tbody>\n",
       "</table>\n",
       "</div>"
      ],
      "text/plain": [
       "  first_name last_name country  age         topice  grads\n",
       "0   Mustapha    Othman     EGY   34   Data Science   17.5\n",
       "1     Omaima  Abdullah     KSA   28  Data Analysis   20.0\n",
       "2     Siddik    Burhan     ESP   45  Data Analysis   19.0\n",
       "4     Mariem     Mazen     EGY   18   Data Science   20.0\n",
       "5   Mustapha     Jalal     MAR   36  Data Analysis   12.5"
      ]
     },
     "execution_count": 63,
     "metadata": {},
     "output_type": "execute_result"
    }
   ],
   "source": [
    "df[df.topice  != 'Data Enginer']"
   ]
  },
  {
   "cell_type": "markdown",
   "id": "cef77d8b",
   "metadata": {},
   "source": [
    "# SQL Sytnax \n",
    "## Select * from Students order by 'grids' DESC"
   ]
  },
  {
   "cell_type": "code",
   "execution_count": 64,
   "id": "7fe97460",
   "metadata": {},
   "outputs": [],
   "source": [
    "######## df['grads'].sort_values()"
   ]
  },
  {
   "cell_type": "markdown",
   "id": "e4971844",
   "metadata": {},
   "source": [
    "# SQL Sytnax \n",
    "## Select Distanct Topics  from Students "
   ]
  },
  {
   "cell_type": "code",
   "execution_count": 65,
   "id": "ebbe10d4",
   "metadata": {},
   "outputs": [
    {
     "data": {
      "text/plain": [
       "array(['Data Science', 'Data Analysis', 'Data Enginer'], dtype=object)"
      ]
     },
     "execution_count": 65,
     "metadata": {},
     "output_type": "execute_result"
    }
   ],
   "source": [
    "df['topice'].unique()"
   ]
  },
  {
   "cell_type": "code",
   "execution_count": 66,
   "id": "d80af313",
   "metadata": {},
   "outputs": [
    {
     "data": {
      "text/plain": [
       "Data Analysis    3\n",
       "Data Science     2\n",
       "Data Enginer     1\n",
       "Name: topice, dtype: int64"
      ]
     },
     "execution_count": 66,
     "metadata": {},
     "output_type": "execute_result"
    }
   ],
   "source": [
    "df['topice'].value_counts()"
   ]
  },
  {
   "cell_type": "code",
   "execution_count": null,
   "id": "fb37ca3d",
   "metadata": {},
   "outputs": [],
   "source": []
  },
  {
   "cell_type": "code",
   "execution_count": null,
   "id": "26d2214e",
   "metadata": {},
   "outputs": [],
   "source": []
  },
  {
   "cell_type": "code",
   "execution_count": null,
   "id": "90a06dd5",
   "metadata": {},
   "outputs": [],
   "source": []
  }
 ],
 "metadata": {
  "kernelspec": {
   "display_name": "Python 3 (ipykernel)",
   "language": "python",
   "name": "python3"
  },
  "language_info": {
   "codemirror_mode": {
    "name": "ipython",
    "version": 3
   },
   "file_extension": ".py",
   "mimetype": "text/x-python",
   "name": "python",
   "nbconvert_exporter": "python",
   "pygments_lexer": "ipython3",
   "version": "3.9.7"
  }
 },
 "nbformat": 4,
 "nbformat_minor": 5
}
